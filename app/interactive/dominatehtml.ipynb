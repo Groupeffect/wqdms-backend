{
 "cells": [
  {
   "cell_type": "code",
   "execution_count": 2,
   "id": "8f2c239a-bd3f-4af1-ae47-56f1299c95cc",
   "metadata": {},
   "outputs": [
    {
     "name": "stdout",
     "output_type": "stream",
     "text": [
      "<!DOCTYPE html>\n",
      "<html>\n",
      "  <head>\n",
      "    <title>Dominate your HTML</title>\n",
      "    <link href=\"style.css\" rel=\"stylesheet\">\n",
      "    <script src=\"script.js\" type=\"text/javascript\"></script>\n",
      "  </head>\n",
      "  <body>\n",
      "    <div id=\"header\">\n",
      "      <ol>\n",
      "        <li>\n",
      "          <a href=\"/home.html\">Home</a>\n",
      "        </li>\n",
      "        <li>\n",
      "          <a href=\"/about.html\">About</a>\n",
      "        </li>\n",
      "        <li>\n",
      "          <a href=\"/contact.html\">Contact</a>\n",
      "        </li>\n",
      "      </ol>\n",
      "    </div>\n",
      "    <div class=\"body\">\n",
      "      <p>Lorem ipsum..</p>\n",
      "    </div>\n",
      "  </body>\n",
      "</html>\n"
     ]
    }
   ],
   "source": [
    "import dominate\n",
    "from dominate.tags import *\n",
    "\n",
    "doc = dominate.document(title='Dominate your HTML')\n",
    "\n",
    "with doc.head:\n",
    "    link(rel='stylesheet', href='style.css')\n",
    "    script(type='text/javascript', src='script.js')\n",
    "\n",
    "with doc:\n",
    "    with div(id='header').add(ol()):\n",
    "        for i in ['home', 'about', 'contact']:\n",
    "            li(a(i.title(), href='/%s.html' % i))\n",
    "\n",
    "    with div():\n",
    "        attr(cls='body')\n",
    "        p('Lorem ipsum..')\n",
    "\n",
    "print(doc)"
   ]
  },
  {
   "cell_type": "code",
   "execution_count": 1,
   "id": "cd48c1f1-9ffa-4a2d-bb64-b6f86881b729",
   "metadata": {},
   "outputs": [
    {
     "name": "stdout",
     "output_type": "stream",
     "text": [
      "Collecting dominate\n",
      "  Downloading dominate-2.9.1-py2.py3-none-any.whl.metadata (13 kB)\n",
      "Downloading dominate-2.9.1-py2.py3-none-any.whl (29 kB)\n",
      "Installing collected packages: dominate\n",
      "Successfully installed dominate-2.9.1\n"
     ]
    }
   ],
   "source": [
    "# !pip install dominate"
   ]
  },
  {
   "cell_type": "code",
   "execution_count": 3,
   "id": "d68edc7a-1e27-4d85-99ba-4a37ca7a55f2",
   "metadata": {},
   "outputs": [],
   "source": [
    "from dominate import tags"
   ]
  },
  {
   "cell_type": "code",
   "execution_count": 9,
   "id": "11d6a155-c2c5-4a03-b979-dc78d81a9021",
   "metadata": {},
   "outputs": [
    {
     "data": {
      "text/plain": [
       "'<li>  <a>{% test %}</a></li>'"
      ]
     },
     "execution_count": 9,
     "metadata": {},
     "output_type": "execute_result"
    }
   ],
   "source": [
    "tags.li(tags.a(\"{% test %}\")).render().replace(\"\\n\",\"\")"
   ]
  },
  {
   "cell_type": "code",
   "execution_count": null,
   "id": "50d2b413-bf2c-4f02-b6bf-4490b8127a58",
   "metadata": {},
   "outputs": [],
   "source": []
  }
 ],
 "metadata": {
  "kernelspec": {
   "display_name": "Django Shell-Plus",
   "language": "python",
   "name": "django_extensions"
  },
  "language_info": {
   "codemirror_mode": {
    "name": "ipython",
    "version": 3
   },
   "file_extension": ".py",
   "mimetype": "text/x-python",
   "name": "python",
   "nbconvert_exporter": "python",
   "pygments_lexer": "ipython3",
   "version": "3.12.3"
  }
 },
 "nbformat": 4,
 "nbformat_minor": 5
}
